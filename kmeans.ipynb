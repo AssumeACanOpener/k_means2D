{
 "cells": [
  {
   "cell_type": "markdown",
   "metadata": {},
   "source": [
    "#K-Means Clustering in 2 Dimensions"
   ]
  },
  {
   "cell_type": "code",
   "execution_count": 1,
   "metadata": {
    "collapsed": false
   },
   "outputs": [],
   "source": [
    "#%matplotlib inline\n",
    "import matplotlib.pyplot as plt\n",
    "import matplotlib\n",
    "import numpy as np\n",
    "import pandas as pd\n",
    "#matplotlib.style.use('ggplot') # Look Pretty"
   ]
  },
  {
   "cell_type": "code",
   "execution_count": 17,
   "metadata": {
    "collapsed": false
   },
   "outputs": [],
   "source": [
    "num_samples = 20\n",
    "\n",
    "samples = pd.DataFrame(np.random.rand(num_samples, 2) * 10, columns=['X', 'Y'])\n",
    "colors = pd.DataFrame(pd.Series([(0, 0, 0)] * num_samples), columns=['colors'])\n",
    "samples = pd.concat([samples, colors], axis=1)\n",
    "# a -1 label means a sample point hasn't been grouped yet,\n",
    "# otherwise it should be the index of a centroid\n",
    "labels = pd.DataFrame(pd.Series([-1] * num_samples), columns=['labels'])\n",
    "samples = pd.concat([samples, labels], axis=1)\n",
    "\n",
    "# 3 random centroids\n",
    "centroids = pd.DataFrame(np.random.rand(3, 2) * 10, columns=['X', 'Y'])\n",
    "colors = pd.DataFrame(pd.Series([(0, 1, 0), (0, 1, 1), (1, 0, 1)]), columns=['colors'])\n",
    "centroids = pd.concat([centroids, colors], axis=1)\n",
    "\n",
    "#samples.head()\n",
    "#centroids.head("
   ]
  },
  {
   "cell_type": "code",
   "execution_count": 29,
   "metadata": {
    "collapsed": false
   },
   "outputs": [],
   "source": [
    "#ax = samples.plot.scatter(x='X', y='Y', c=sample_colors, marker='.', markersize=20, label='Samples');\n",
    "#clusters.plot.scatter(x='X', y='Y', c=cluster_colors, marker=7, label='Centroids', ax=ax);\n",
    "plt.scatter(samples.X, samples.Y, c=samples.colors, marker='x', s=25)\n",
    "plt.scatter(centroids.X, centroids.Y, c=centroids.colors, marker='o', s=60)\n",
    "plt.show()"
   ]
  },
  {
   "cell_type": "code",
   "execution_count": null,
   "metadata": {
    "collapsed": true
   },
   "outputs": [],
   "source": []
  }
 ],
 "metadata": {
  "kernelspec": {
   "display_name": "Python 3",
   "language": "python",
   "name": "python3"
  },
  "language_info": {
   "codemirror_mode": {
    "name": "ipython",
    "version": 3
   },
   "file_extension": ".py",
   "mimetype": "text/x-python",
   "name": "python",
   "nbconvert_exporter": "python",
   "pygments_lexer": "ipython3",
   "version": "3.5.1"
  }
 },
 "nbformat": 4,
 "nbformat_minor": 0
}
