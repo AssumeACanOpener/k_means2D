{
 "cells": [
  {
   "cell_type": "code",
   "execution_count": null,
   "metadata": {
    "collapsed": true
   },
   "outputs": [],
   "source": [
    "import random\n",
    "import math\n",
    "import matplotlib.pyplot as plt\n",
    "import numpy as np\n",
    "import pandas as pd\n",
    "\n",
    "\n",
    "num_points = 20\n",
    "num_clusters = 4\n",
    "\n",
    "# initalize data points and cluster centroids at random\n",
    "points = pd.DataFrame(np.random.randn(num_points, 2) * 10, columns=['X', 'Y'])\n",
    "clusters = pd.DataFrame(np.random.randn(num_clusters, 2) * 10, columns=['X', 'Y'])\n",
    "\n",
    "# initial groupings\n",
    "\n",
    "# plot our points\n",
    "ax = points.plot.scatter(x='X', y='Y', color='Blue', label='Samples');\n",
    "clusters.plot.scatter(x='X', y='Y', color='Red', label='Centroids', ax=ax);\n",
    "plt.show()"
   ]
  }
 ],
 "metadata": {
  "kernelspec": {
   "display_name": "Python 3",
   "language": "python",
   "name": "python3"
  },
  "language_info": {
   "codemirror_mode": {
    "name": "ipython",
    "version": 3
   },
   "file_extension": ".py",
   "mimetype": "text/x-python",
   "name": "python",
   "nbconvert_exporter": "python",
   "pygments_lexer": "ipython3",
   "version": "3.5.1"
  }
 },
 "nbformat": 4,
 "nbformat_minor": 0
}
